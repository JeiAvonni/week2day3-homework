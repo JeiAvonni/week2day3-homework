{
 "cells": [
  {
   "cell_type": "markdown",
   "metadata": {},
   "source": [
    "# Dictionaries & Sets"
   ]
  },
  {
   "cell_type": "markdown",
   "metadata": {},
   "source": [
    "## Tasks Today:\n",
    "\n",
    "1) Dictionary <br>\n",
    " &nbsp;&nbsp;&nbsp;&nbsp; a) Declaring (key, value) <br>\n",
    " &nbsp;&nbsp;&nbsp;&nbsp; b) Accessing Values <br>\n",
    " &nbsp;&nbsp;&nbsp;&nbsp; ------ Exercise #1 - Print the eye color of each person in a double nested dict <br>\n",
    " &nbsp;&nbsp;&nbsp;&nbsp; c) Adding New Pairs <br>\n",
    " &nbsp;&nbsp;&nbsp;&nbsp; d) Modifying Values <br>\n",
    " &nbsp;&nbsp;&nbsp;&nbsp; e) Removing Key, Value Pairs <br>\n",
    " &nbsp;&nbsp;&nbsp;&nbsp; f) Looping a Dictionary <br>\n",
    " &nbsp;&nbsp;&nbsp;&nbsp; g) Looping Only Keys <br>\n",
    " &nbsp;&nbsp;&nbsp;&nbsp; h) Looping Only Values <br>\n",
    " &nbsp;&nbsp;&nbsp;&nbsp; ------ Exercise #2 - Create a Function that Prints All Key Value Pairs within a print .format()  <br>\n",
    " &nbsp;&nbsp;&nbsp;&nbsp; i) sorted() <br>\n",
    " &nbsp;&nbsp;&nbsp;&nbsp; j) Lists with Dictionaries <br>\n",
    " &nbsp;&nbsp;&nbsp;&nbsp; k) Dictionaries with Lists <br>\n",
    " &nbsp;&nbsp;&nbsp;&nbsp; l) Dictionaries with Dictionaries <br>\n",
    " &nbsp;&nbsp;&nbsp;&nbsp; ------ Exercise #3 - Write a Function that asks someone's name and address, and then stores that into a dictionary, which prints all names and addresses after they're done putting information in...  <br>\n",
    "2) Dictionaries vs. Lists (over time)<br>\n",
    "3) Set <br>\n",
    " &nbsp;&nbsp;&nbsp;&nbsp; a) Declaring <br>\n",
    " &nbsp;&nbsp;&nbsp;&nbsp; b) .add() <br>\n",
    " &nbsp;&nbsp;&nbsp;&nbsp; c) .remove() <br>\n",
    " &nbsp;&nbsp;&nbsp;&nbsp; d) .union() <br>\n",
    " &nbsp;&nbsp;&nbsp;&nbsp; e) .intersection() <br>\n",
    " &nbsp;&nbsp;&nbsp;&nbsp; f) .difference() <br>\n",
    " &nbsp;&nbsp;&nbsp;&nbsp; g) Frozen Set <br>\n",
    "4) Exercises <br>\n",
    " &nbsp;&nbsp;&nbsp;&nbsp; a) Build a Shopping Cart <br>\n",
    " &nbsp;&nbsp;&nbsp;&nbsp; b) Create Your Own Module <br>"
   ]
  },
  {
   "cell_type": "markdown",
   "metadata": {},
   "source": [
    "## Dictionary <br>\n",
    "<p>A collection of data with 'key:value' pairs. Dictionaries are ordered as of Python 3.6</p>"
   ]
  },
  {
   "cell_type": "markdown",
   "metadata": {},
   "source": [
    "##### Declaring (key, value)"
   ]
  },
  {
   "cell_type": "code",
   "execution_count": 7,
   "metadata": {},
   "outputs": [
    {
     "name": "stdout",
     "output_type": "stream",
     "text": [
      "{}\n",
      "{}\n",
      "{'Tom': '255 Main St', 'Jerry': '256 Main St', 0: 'This is a zero'}\n"
     ]
    }
   ],
   "source": [
    "# keys should be unique\n",
    "# can use numbers or strings as keys\n",
    "#  empty dictionary\n",
    "d_1 = {}\n",
    "print(d_1)\n",
    "# or\n",
    "d_2 = dict()\n",
    "print(d_2)\n",
    "\n",
    "# or\n",
    "\n",
    "# d_2[\"some\"] = \"value\"\n",
    "\n",
    "# print(d_2)\n",
    "\n",
    "d_3 = {\n",
    "    \"Tom\": \"255 Main St\" ,\n",
    "    \"Jerry\" : \"256 Main St\" ,\n",
    "    0: \"This is a zero\"\n",
    "}\n",
    "\n",
    "print(d_3)"
   ]
  },
  {
   "cell_type": "markdown",
   "metadata": {},
   "source": [
    "##### Accessing Values"
   ]
  },
  {
   "cell_type": "code",
   "execution_count": 9,
   "metadata": {},
   "outputs": [
    {
     "name": "stdout",
     "output_type": "stream",
     "text": [
      "255 Main St\n",
      "256 Main St\n",
      "This is a zero\n"
     ]
    }
   ],
   "source": [
    "# dict[key]\n",
    "print(d_3[\"Tom\"])\n",
    "print(d_3[\"Jerry\"])\n",
    "print(d_3[0]) # careful with numbers as keys because it looks like a list index"
   ]
  },
  {
   "cell_type": "markdown",
   "metadata": {},
   "source": []
  },
  {
   "cell_type": "markdown",
   "metadata": {},
   "source": [
    "##### Accessing values with dict.get()"
   ]
  },
  {
   "cell_type": "code",
   "execution_count": 19,
   "metadata": {},
   "outputs": [
    {
     "name": "stdout",
     "output_type": "stream",
     "text": [
      "255 Main St\n",
      "None\n",
      "address not found\n"
     ]
    }
   ],
   "source": [
    "#dict.get(key, value)\n",
    "d_3 = {\n",
    "    \"Tom\": \"255 Main St\" ,\n",
    "    \"Jerry\" : \"256 Main St\" ,\n",
    "    0: \"This is a zero\"\n",
    "}\n",
    "\n",
    "print(d_3.get(\"Tom\"))\n",
    "print(d_3.get(\"Pie\"))\n",
    "print(d_3.get(\"Pie\", \"address not found\"))"
   ]
  },
  {
   "cell_type": "markdown",
   "metadata": {},
   "source": [
    "## In-Class Exercise #1 - Print a formatted statement from the dictionary below <br>\n",
    "<p>The output should be '2018 Chevrolet Silverado'</p>"
   ]
  },
  {
   "cell_type": "code",
   "execution_count": 28,
   "metadata": {},
   "outputs": [
    {
     "name": "stdout",
     "output_type": "stream",
     "text": [
      "2018 Chevrolet Silverado\n",
      "2018 Chevrolet truck['model']\n"
     ]
    }
   ],
   "source": [
    "# use the dict below\n",
    "truck = {\n",
    "    \"year\": 2018,\n",
    "    'make': 'Chevrolet',\n",
    "    'model': 'Silverado'\n",
    "}\n",
    "# you can use the f string \n",
    "# f\"{}'\n",
    "\n",
    "truck = {\n",
    "    \"year\": 2018,\n",
    "    'make': 'Chevrolet',\n",
    "    'model': 'Silverado'\n",
    "}\n",
    "print(truck.get(\"year\"), truck.get(\"make\"), truck.get(\"model\"))\n",
    "\n",
    "print(f'{truck['year']} {truck['make']} truck{['model']}')\n",
    "\n",
    "\n",
    "\n"
   ]
  },
  {
   "cell_type": "markdown",
   "metadata": {},
   "source": [
    "##### Adding New Pairs"
   ]
  },
  {
   "cell_type": "code",
   "execution_count": 34,
   "metadata": {},
   "outputs": [
    {
     "name": "stdout",
     "output_type": "stream",
     "text": [
      "{'Tom': '255 Main St', 'Jerry': '256 Main St', '0': 'This is a zero', 'Spike': '257 Main St', 'Tike': '257 Main St'}\n",
      "257 Main St\n",
      "257 Main St\n"
     ]
    }
   ],
   "source": [
    "# dict[key] = value\n",
    "# keys in  a dictionary must be unique\n",
    "# # d_3 = {\n",
    "#     \"Tom\": \"255 Main St\" ,\n",
    "#      \"Tom\": \"257 Main St\"\n",
    "#     \"Jerry\" : \"256 Main St\" ,\n",
    "#     '0': \"This is a zero\"\n",
    "# }\n",
    "d_3 = {\n",
    "    \"Tom\": \"255 Main St\" ,\n",
    "    \"Jerry\" : \"256 Main St\" ,\n",
    "    \"0\": \"This is a zero\"\n",
    "}\n",
    "\n",
    "d_3[\"Spike\"] = \"257 Main St\"\n",
    "d_3[\"Tike\"] = \"257 Main St\"\n",
    "\n",
    "print(d_3)\n",
    "print(d_3[\"Spike\"])\n",
    "print(d_3[\"Tike\"])"
   ]
  },
  {
   "cell_type": "markdown",
   "metadata": {},
   "source": [
    "##### Modifying Values"
   ]
  },
  {
   "cell_type": "code",
   "execution_count": 40,
   "metadata": {},
   "outputs": [
    {
     "name": "stdout",
     "output_type": "stream",
     "text": [
      "{'Tom': '254 Main St', 'Jerry': '256 Main St', '0': 'This is a zero', 'Spike': '257 Main St', 'Tike': '258 Main St60561'}\n",
      "{'Tom': '254 Main St', 'Jerry': '256 Main St', '0': 'This is a zero', 'Spike': '257 Main St', 'Tike': '258 Main St'}\n",
      "<class 'str'>\n",
      "258 Main St60561\n"
     ]
    }
   ],
   "source": [
    "# dict[key] = value\n",
    "print(d_3)\n",
    "d_3[\"Tike\"] = \"258 Main St\"\n",
    "d_3[\"Tom\"] = \"254 Main St\"\n",
    "\n",
    "print(d_3)\n",
    "\n",
    "print(type(d_3[\"Tike\"]))\n",
    "# \"258 Main St\"= \"258 Main St\" + \"60561\"\n",
    "d_3[\"Tike\"] = d_3[\"Tike\"] + \"60561\"\n",
    "print(d_3[\"Tike\"])"
   ]
  },
  {
   "cell_type": "markdown",
   "metadata": {},
   "source": [
    "names_list = [\"Lando\", \"Mega Man\", \"Cheetor\", \"Charizard\", \"Lando\", \"Mega Man\", \"Lando\", \"Lando\", \"Charizard\"]\n",
    "count_dict = {}\n",
    "for name in names_list:\n",
    "    if name not in count_dict:\n",
    "        count_dict[name] = 1\n",
    "        print(count_dict)\n",
    "    else:\n",
    "        count_dict[name] += 1\n",
    "        print(count_dict)\n",
    "    \n"
   ]
  },
  {
   "cell_type": "markdown",
   "metadata": {},
   "source": [
    "##### Removing Key, Value Pairs"
   ]
  },
  {
   "cell_type": "code",
   "execution_count": 49,
   "metadata": {},
   "outputs": [
    {
     "name": "stdout",
     "output_type": "stream",
     "text": [
      "{'bananas': 5, 'apples': 7}\n"
     ]
    }
   ],
   "source": [
    "# del dict[key]\n",
    "# del deletes anything\n",
    "# name = \"Duck\"\n",
    "# print(name)\n",
    "\n",
    "# print(d_3)\n",
    "\n",
    "# del d_3['0'] \n",
    "\n",
    "my_cart = {\n",
    "    \"bananas\": 5,\n",
    "    \"apples\" : 7\n",
    "}\n",
    "\n",
    "if my_cart[\"bananas\"] <= 0:\n",
    "    del my_cart[\"bananas\"]\n",
    "\n",
    "\n",
    "print(my_cart)"
   ]
  },
  {
   "cell_type": "markdown",
   "metadata": {},
   "source": [
    "### Looping a Dictionary"
   ]
  },
  {
   "cell_type": "markdown",
   "metadata": {},
   "source": [
    "##### Looping through items (key and values)"
   ]
  },
  {
   "cell_type": "code",
   "execution_count": 51,
   "metadata": {},
   "outputs": [
    {
     "name": "stdout",
     "output_type": "stream",
     "text": [
      "Tom lives at 254 Main St\n",
      "Jerry lives at 256 Main St\n",
      "Spike lives at 257 Main St\n",
      "Tike lives at 258 Main St60561\n"
     ]
    }
   ],
   "source": [
    "# .items()\n",
    "# a, b, c = 1, 2, 3\n",
    "for name, address in d_3.items():\n",
    "    print(f\"{name} lives at {address}\")"
   ]
  },
  {
   "cell_type": "markdown",
   "metadata": {},
   "source": [
    "##### Looping Only Keys"
   ]
  },
  {
   "cell_type": "code",
   "execution_count": 56,
   "metadata": {},
   "outputs": [
    {
     "name": "stdout",
     "output_type": "stream",
     "text": [
      "{'Tom': '254 Main St', 'Jerry': '256 Main St', 'Spike': '257 Main St', 'Tike': '258 Main St60561'}\n",
      "Tom\n",
      "Jerry\n",
      "Spike\n",
      "Tike\n",
      "/n\n",
      "Tom\n",
      "Jerry\n",
      "Spike\n",
      "Tike\n",
      "dict_keys(['Tom', 'Jerry', 'Spike', 'Tike'])\n"
     ]
    }
   ],
   "source": [
    "# Looping through a dictionary will default to the keys\n",
    "# or\n",
    "# .keys()\n",
    "print(d_3)\n",
    "for key in d_3:\n",
    "    print(key)\n",
    "\n",
    "print(\"/n\")\n",
    "\n",
    "for key in d_3.keys():\n",
    "    print(key)\n",
    "\n",
    "print(d_3.keys())\n",
    "\n"
   ]
  },
  {
   "cell_type": "markdown",
   "metadata": {},
   "source": [
    "##### Looping Only Values"
   ]
  },
  {
   "cell_type": "code",
   "execution_count": 68,
   "metadata": {
    "scrolled": true
   },
   "outputs": [
    {
     "ename": "IndentationError",
     "evalue": "expected an indented block after 'elif' statement on line 12 (2051094378.py, line 13)",
     "output_type": "error",
     "traceback": [
      "\u001b[1;36m  Cell \u001b[1;32mIn[68], line 13\u001b[1;36m\u001b[0m\n\u001b[1;33m    else:\u001b[0m\n\u001b[1;37m    ^\u001b[0m\n\u001b[1;31mIndentationError\u001b[0m\u001b[1;31m:\u001b[0m expected an indented block after 'elif' statement on line 12\n"
     ]
    }
   ],
   "source": [
    "# .values()\n",
    "print(d_3)\n",
    "\n",
    "print(d_3.values())\n",
    "\n",
    "for value in d_3.values():\n",
    "    print(value)\n",
    "\n",
    "for value in d_3.valus():\n",
    "    if value == \"254 Main St\":\n",
    "        print(\"Tom lives here!\")\n",
    "    elif value == \"257 Main St\":\n",
    "    else:\n",
    "        print(value)\n",
    "\n",
    "print d_3    "
   ]
  },
  {
   "cell_type": "markdown",
   "metadata": {},
   "source": [
    "## In-Class Exercise #2 - Write a loop that Prints All Key Value Pairs within a formatted string  <br>\n",
    "<p><b>Output should be:</b><br>\n",
    "Max has blue eyes<br>\n",
    "Lilly has brown eyes<br>\n",
    "Barney has blue eyes<br>\n",
    "etc.\n",
    "</p>"
   ]
  },
  {
   "cell_type": "code",
   "execution_count": 69,
   "metadata": {},
   "outputs": [
    {
     "name": "stdout",
     "output_type": "stream",
     "text": [
      "Max has blue eyes\n",
      "Lilly has brown eyes\n",
      "Barney has green eyes\n",
      "Ted has purple eyes\n",
      "Sasuke has sharingan eyes\n"
     ]
    }
   ],
   "source": [
    "# use the dict below\n",
    "people = {\n",
    "    'Max' : 'blue',\n",
    "    'Lilly' : 'brown',\n",
    "    'Barney' : 'green',\n",
    "    'Ted' : 'purple',\n",
    "    'Sasuke' : 'sharingan'    \n",
    "} \n",
    "for name, color in people.items():\n",
    "    print(f\"{name} has {color} eyes\")"
   ]
  },
  {
   "cell_type": "markdown",
   "metadata": {},
   "source": [
    "##### sorted()"
   ]
  },
  {
   "cell_type": "code",
   "execution_count": 72,
   "metadata": {},
   "outputs": [
    {
     "name": "stdout",
     "output_type": "stream",
     "text": [
      "values: ['blue', 'brown', 'green', 'purple', 'sharingan']\n",
      "keys:) ['Barney', 'Lilly', 'Max', 'Sasuke', 'Ted']\n"
     ]
    },
    {
     "ename": "AttributeError",
     "evalue": "'dict' object has no attribute 'iems'",
     "output_type": "error",
     "traceback": [
      "\u001b[1;31m---------------------------------------------------------------------------\u001b[0m",
      "\u001b[1;31mAttributeError\u001b[0m                            Traceback (most recent call last)",
      "Cell \u001b[1;32mIn[72], line 13\u001b[0m\n\u001b[0;32m     11\u001b[0m \u001b[38;5;28mprint\u001b[39m(\u001b[38;5;124m\"\u001b[39m\u001b[38;5;124mvalues:\u001b[39m\u001b[38;5;124m\"\u001b[39m, \u001b[38;5;28msorted\u001b[39m(people\u001b[38;5;241m.\u001b[39mvalues()))\n\u001b[0;32m     12\u001b[0m \u001b[38;5;28mprint\u001b[39m(\u001b[38;5;124m\"\u001b[39m\u001b[38;5;124mkeys:)\u001b[39m\u001b[38;5;124m\"\u001b[39m , \u001b[38;5;28msorted\u001b[39m(people\u001b[38;5;241m.\u001b[39mkeys()))\n\u001b[1;32m---> 13\u001b[0m \u001b[38;5;28mprint\u001b[39m(\u001b[38;5;124m\"\u001b[39m\u001b[38;5;124mKey Value Pairs:\u001b[39m\u001b[38;5;124m\"\u001b[39m, \u001b[38;5;28msorted\u001b[39m(\u001b[43mpeople\u001b[49m\u001b[38;5;241;43m.\u001b[39;49m\u001b[43miems\u001b[49m))\n",
      "\u001b[1;31mAttributeError\u001b[0m: 'dict' object has no attribute 'iems'"
     ]
    }
   ],
   "source": [
    "# sorts variables in order\n",
    "# sorted(dict.values()) or dict.keys() or dict.items()\n",
    "people = {\n",
    "    'Max' : 'blue',\n",
    "    'Lilly' : 'brown',\n",
    "    'Barney' : 'green',\n",
    "    'Ted' : 'purple',\n",
    "    'Sasuke' : 'sharingan'    \n",
    "} \n",
    "\n",
    "print(\"values:\", sorted(people.values()))\n",
    "print(\"keys:)\" , sorted(people.keys()))\n",
    "print(\"Key Value Pairs:\", sorted(people.iems))"
   ]
  },
  {
   "cell_type": "markdown",
   "metadata": {},
   "source": [
    "List with Dictionaries"
   ]
  },
  {
   "cell_type": "code",
   "execution_count": 73,
   "metadata": {},
   "outputs": [
    {
     "ename": "SyntaxError",
     "evalue": "invalid syntax (3061248281.py, line 1)",
     "output_type": "error",
     "traceback": [
      "\u001b[1;36m  Cell \u001b[1;32mIn[73], line 1\u001b[1;36m\u001b[0m\n\u001b[1;33m    shinobi = [\"Shikamaru\", \"Gaara\", \"OcotoPops\",{\"leaf_village\",\"Naruto\", \"Leaf_village2\": \"kakashi\"}]\u001b[0m\n\u001b[1;37m                                                                                          ^\u001b[0m\n\u001b[1;31mSyntaxError\u001b[0m\u001b[1;31m:\u001b[0m invalid syntax\n"
     ]
    }
   ],
   "source": [
    "shinobi = [\"Shikamaru\", \"Gaara\", \"OcotoPops\",{\"leaf_village\",\"Naruto\", \"Leaf_village2\": \"kakashi\"}]\n",
    "\n",
    "\n",
    "\n",
    "\n",
    "print(shinobi[1])\n",
    "print(shinobi[3])"
   ]
  },
  {
   "cell_type": "markdown",
   "metadata": {},
   "source": [
    "##### Dictionaries with Lists"
   ]
  },
  {
   "cell_type": "code",
   "execution_count": null,
   "metadata": {},
   "outputs": [],
   "source": [
    "# be careful when using numbers as keys in dictionaries, don't confuse them with indexes\n"
   ]
  },
  {
   "cell_type": "markdown",
   "metadata": {},
   "source": [
    "##### Dictionaries with Dictionaries"
   ]
  },
  {
   "cell_type": "code",
   "execution_count": null,
   "metadata": {
    "scrolled": true
   },
   "outputs": [],
   "source": [
    "# to get values, must traverse through keys\n",
    "\n",
    "\n",
    "\n"
   ]
  },
  {
   "cell_type": "markdown",
   "metadata": {},
   "source": [
    "## Dictionaries vs. Lists (over time) Example of RUNTIME\n",
    "### When inputting values in a Dictionary vs List"
   ]
  },
  {
   "cell_type": "code",
   "execution_count": null,
   "metadata": {},
   "outputs": [],
   "source": [
    "import time\n",
    "\n",
    "#generate dictionary\n",
    "\n",
    "    \n",
    "\n",
    "    \n",
    "\n"
   ]
  },
  {
   "cell_type": "code",
   "execution_count": null,
   "metadata": {},
   "outputs": [],
   "source": [
    "#track the time for the dictionary\n",
    "\n",
    "\n",
    "\n",
    "        "
   ]
  },
  {
   "cell_type": "markdown",
   "metadata": {},
   "source": [
    "## Exercise #3 - Write a Function that asks someone's name and address, and then stores that into a dictionary, and continues to do so until they choose to 'quit'. Once they quit, the program should print all names and addresses. <br>\n",
    "<p>\n",
    "<b>Proper steps:</b><br>\n",
    "step 1: write a function that takes in information and stores it in a dictionary<br>\n",
    "step 2: define an empty dictionary to work with<br>\n",
    "step 3: create our loop, which asks the user for information until they quit<br>\n",
    "step 4: ask for the information, and store it into variables<br>\n",
    "step 5: check if the user types quit<br>\n",
    "step 5a: print out all information<br>\n",
    "step 5b: break out of the loop<br>\n",
    "step 6: if they didn't quit, add the information to the dictionary<br>\n",
    "step 7: invoke the function by calling it\n",
    "</p>"
   ]
  },
  {
   "cell_type": "code",
   "execution_count": null,
   "metadata": {},
   "outputs": [],
   "source": [
    "from IPython.display import clear_output\n",
    "\n",
    "\n",
    "            \n",
    "        \n",
    "        "
   ]
  },
  {
   "cell_type": "markdown",
   "metadata": {},
   "source": [
    "## Set <br>\n",
    "<p>A Set is an unordered collection data type that is iterable (loop), mutable, and has no duplicate elements.<br>Major advantage is that it is highly optimized in checking if something is in the set, as opposed to checking if something is in a list.</p>"
   ]
  },
  {
   "cell_type": "markdown",
   "metadata": {},
   "source": [
    "##### Declaring"
   ]
  },
  {
   "cell_type": "code",
   "execution_count": null,
   "metadata": {},
   "outputs": [],
   "source": [
    "# set() or {}\n",
    "# no order {3, 2, 1} outputs as {1, 2, 3}\n",
    "\n"
   ]
  },
  {
   "cell_type": "code",
   "execution_count": null,
   "metadata": {
    "scrolled": true
   },
   "outputs": [],
   "source": [
    "#remove all duplicates from the list\n"
   ]
  },
  {
   "cell_type": "markdown",
   "metadata": {},
   "source": [
    "##### .add()"
   ]
  },
  {
   "cell_type": "code",
   "execution_count": null,
   "metadata": {},
   "outputs": [],
   "source": [
    "# set.add()\n",
    "\n",
    "\n",
    "\n"
   ]
  },
  {
   "cell_type": "markdown",
   "metadata": {},
   "source": [
    "##### .remove()"
   ]
  },
  {
   "cell_type": "code",
   "execution_count": 75,
   "metadata": {},
   "outputs": [
    {
     "ename": "NameError",
     "evalue": "name 'printprint' is not defined",
     "output_type": "error",
     "traceback": [
      "\u001b[1;31m---------------------------------------------------------------------------\u001b[0m",
      "\u001b[1;31mNameError\u001b[0m                                 Traceback (most recent call last)",
      "Cell \u001b[1;32mIn[75], line 3\u001b[0m\n\u001b[0;32m      1\u001b[0m \u001b[38;5;66;03m# removes by value\u001b[39;00m\n\u001b[0;32m      2\u001b[0m \u001b[38;5;66;03m# set.remove()\u001b[39;00m\n\u001b[1;32m----> 3\u001b[0m \u001b[43mprintprint\u001b[49m(my_set)\n\u001b[0;32m      4\u001b[0m my_set\u001b[38;5;241m.\u001b[39mremove(\u001b[38;5;241m22\u001b[39m)\n\u001b[0;32m      5\u001b[0m \u001b[38;5;28mprint\u001b[39m(my_set)\n",
      "\u001b[1;31mNameError\u001b[0m: name 'printprint' is not defined"
     ]
    }
   ],
   "source": [
    "# removes by value\n",
    "# set.remove()\n",
    "print(my_set)\n",
    "my_set.remove(22)\n",
    "print(my_set)\n"
   ]
  },
  {
   "cell_type": "markdown",
   "metadata": {},
   "source": [
    "##### .union() "
   ]
  },
  {
   "cell_type": "code",
   "execution_count": 80,
   "metadata": {},
   "outputs": [
    {
     "name": "stdout",
     "output_type": "stream",
     "text": [
      "{1, 2, 3, 4, 5, 6}\n"
     ]
    },
    {
     "ename": "NameError",
     "evalue": "name 's5' is not defined",
     "output_type": "error",
     "traceback": [
      "\u001b[1;31m---------------------------------------------------------------------------\u001b[0m",
      "\u001b[1;31mNameError\u001b[0m                                 Traceback (most recent call last)",
      "Cell \u001b[1;32mIn[80], line 11\u001b[0m\n\u001b[0;32m      7\u001b[0m \u001b[38;5;28mprint\u001b[39m(s3)\n\u001b[0;32m      9\u001b[0m \u001b[38;5;66;03m# or\u001b[39;00m\n\u001b[1;32m---> 11\u001b[0m s4 \u001b[38;5;241m-\u001b[39m s2 \u001b[38;5;241m|\u001b[39m s1 \u001b[38;5;241m|\u001b[39m \u001b[43ms5\u001b[49m\n",
      "\u001b[1;31mNameError\u001b[0m: name 's5' is not defined"
     ]
    }
   ],
   "source": [
    "# Returns a union of two sets, can also use '|' or set.union(set)\n",
    "# joins all numbers, gets rid of duplicates\n",
    "s1 ={1,2,3,4}\n",
    "s2 ={3, 4, 5, 6}\n",
    "\n",
    "s3 =s1.union(s2)\n",
    "print(s3)\n",
    "\n",
    "# or\n",
    "\n",
    "s4 - s2 | s1 | s5"
   ]
  },
  {
   "cell_type": "markdown",
   "metadata": {
    "jp-MarkdownHeadingCollapsed": true
   },
   "source": [
    "##### .intersection()"
   ]
  },
  {
   "cell_type": "code",
   "execution_count": 78,
   "metadata": {},
   "outputs": [
    {
     "name": "stdout",
     "output_type": "stream",
     "text": [
      "{3, 4}\n",
      "{3, 4}\n"
     ]
    }
   ],
   "source": [
    "# Returns an intersection of two sets, can also use '&'\n",
    "# only takes similar elements from both sets\n",
    "s1 ={1,2,3,4}\n",
    "s2 ={3, 4, 5, 6}\n",
    "\n",
    "s3 = s2.intersection(s1)\n",
    "print(s3)\n",
    "\n",
    "# or\n",
    "\n",
    "s4 = s2 & s1\n",
    "print(s4)"
   ]
  },
  {
   "cell_type": "markdown",
   "metadata": {},
   "source": [
    "##### .difference()"
   ]
  },
  {
   "cell_type": "code",
   "execution_count": 83,
   "metadata": {},
   "outputs": [
    {
     "name": "stdout",
     "output_type": "stream",
     "text": [
      "{1, 2}\n",
      "{5, 6}\n",
      "{1, 2}\n",
      "{5, 6}\n"
     ]
    }
   ],
   "source": [
    "# Returns a set containing all the elements of invoking set that are not in the second set, can also use '-'\n",
    "# only takes values from the first set that are not in the second set\n",
    "# order matters\n",
    "s1 ={1,2,3,4}\n",
    "s2 ={3, 4, 5, 6}\n",
    "\n",
    "s3 = s1.difference(s2)\n",
    "print(s3)\n",
    "s4 = s2.difference(s1)\n",
    "print(s4)\n",
    "\n",
    "# or\n",
    "\n",
    "s5 = s1 -s2\n",
    "print(s5)\n",
    "\n",
    "s6 = s2 -s1\n",
    "print(s6)"
   ]
  },
  {
   "cell_type": "markdown",
   "metadata": {},
   "source": [
    "#####.clear()"
   ]
  },
  {
   "cell_type": "code",
   "execution_count": 84,
   "metadata": {},
   "outputs": [
    {
     "name": "stdout",
     "output_type": "stream",
     "text": [
      "{5, 6}\n",
      "set()\n"
     ]
    }
   ],
   "source": [
    "# Empties the whole set\n",
    "# set.clear()\n",
    "print(s6)\n",
    "s6.clear()\n",
    "print(s6)"
   ]
  },
  {
   "cell_type": "markdown",
   "metadata": {},
   "source": [
    "##### Frozenset <br>\n",
    "<p>Frozen sets are immutable objects that only support methods and operators that produce a result without affecting the frozen set or sets to which they are applied.</p><br><b>Unique & Immutable</b>"
   ]
  },
  {
   "cell_type": "code",
   "execution_count": 87,
   "metadata": {},
   "outputs": [
    {
     "name": "stdout",
     "output_type": "stream",
     "text": [
      "{2, 3, 4, 5, 'my dog is neat', 7, 'hello'}\n",
      "frozenset({2, 3, 4, 5, 'my dog is neat', 7, 'hello'})\n",
      "{2, 3, 4, 5, 'my dog is neat', 7, 'hello'}\n",
      "{2, 3, 4, 5, 'my dog is neat', 7, 'hello', 'cool beans'}\n",
      "frozenset({2, 3, 4, 5, 7, 'my dog is neat', 'hello', 'cool beans'})\n"
     ]
    }
   ],
   "source": [
    "# frozenset([])\n",
    "# you can not add to a frozen set nor remove from a frozen set because they are imutable\n",
    "my_set = {2,3,4, \"hello\", 7,\"my dog is neat\", 5}\n",
    "\n",
    "print(my_set)\n",
    "\n",
    "frozen_set = frozenset(my_set)\n",
    "\n",
    "print(frozen_set)\n",
    "\n",
    "my_new_set = set(frozen_set)\n",
    "\n",
    "print(my_new_set)\n",
    "my_new_set.add(\"cool beans\")\n",
    "print(my_new_set)\n",
    "frozen_set = frozenset(my_new_set)\n",
    "print(frozen_set)"
   ]
  },
  {
   "cell_type": "markdown",
   "metadata": {},
   "source": [
    "# Exercises"
   ]
  },
  {
   "cell_type": "markdown",
   "metadata": {},
   "source": [
    "### 1) Build a Shopping Cart <br>\n",
    "<p><b>You can use either lists or dictionaries. The program should have the following capabilities:</b><br><br>\n",
    "1) Takes in input <br>\n",
    "2) Stores user input into a dictionary or list <br>\n",
    "3) The User can add or delete items <br>\n",
    "4) The User can see current shopping list <br>\n",
    "5) The program Loops until user 'quits' <br>\n",
    "6) Upon quiting the program, print out all items in the user's list <br>\n",
    "</p>"
   ]
  },
  {
   "cell_type": "code",
   "execution_count": 9,
   "metadata": {},
   "outputs": [
    {
     "name": "stdin",
     "output_type": "stream",
     "text": [
      "Enter food to buy ('q' to quit):  strawberries\n",
      " Would you like to delete item from your kart? no\n",
      "Enter food to buy ('q' to quit):  banana\n",
      " Would you like to delete item from your kart? q\n",
      "Enter food to buy ('q' to quit):  blueberry\n",
      " Would you like to delete item from your kart? yes\n",
      "What is the item you want to delete? banana\n",
      "Enter food to buy ('q' to quit):  q\n"
     ]
    },
    {
     "name": "stdout",
     "output_type": "stream",
     "text": [
      "-----your cart-----\n",
      "strawberries blueberry "
     ]
    }
   ],
   "source": [
    "from IPython.display import clear_output\n",
    "\n",
    "# Ask the user four bits of input: Do you want to : Show/Add/Delete or Quit?\n",
    "food = {}\n",
    "Prices = {}\n",
    "Total = 0\n",
    "\n",
    "shopping_kart = []\n",
    "\n",
    "\n",
    "\n",
    "while True:\n",
    "    food = input(\"Enter food to buy ('q' to quit): \")\n",
    "    if food == \"q\" :  \n",
    "        break\n",
    "    else: \n",
    "        shopping_kart.append(food)\n",
    "    want_to_delete_item = input(\" Would you like to delete item from your kart?\")\n",
    "    if want_to_delete_item == \"yes\":\n",
    "        item_to_delete = input(\"What is the item you want to delete?\")\n",
    "        shopping_kart.remove(item_to_delete)\n",
    "    \n",
    "    \n",
    "    \n",
    "print(\"-----your cart-----\")\n",
    "\n",
    "for food in shopping_kart:\n",
    "    print (food, end=\" \")"
   ]
  },
  {
   "cell_type": "markdown",
   "metadata": {},
   "source": [
    "### 2) Set Practice"
   ]
  },
  {
   "cell_type": "markdown",
   "metadata": {},
   "source": [
    "<p><b>Remove all duplicates from the following list</b></p>"
   ]
  },
  {
   "cell_type": "code",
   "execution_count": 11,
   "metadata": {},
   "outputs": [
    {
     "name": "stdout",
     "output_type": "stream",
     "text": [
      "{1, 2, 3, 4, 5, 6, 11, 12, 14, 16}\n"
     ]
    }
   ],
   "source": [
    "nums_list = [1, 1, 1, 2, 2, 3, 5, 6, 4, 12, 11, 12, 12, 14, 16, 16, 16, 1, 1, 1, 2, 2]\n",
    "new_list = set(nums_list)\n",
    "print(new_list)"
   ]
  },
  {
   "cell_type": "markdown",
   "metadata": {},
   "source": [
    "<p><b>Out put the intersection of the following the following sets.</b></p>"
   ]
  },
  {
   "cell_type": "code",
   "execution_count": 12,
   "metadata": {},
   "outputs": [
    {
     "name": "stdout",
     "output_type": "stream",
     "text": [
      "{26, 27}\n"
     ]
    }
   ],
   "source": [
    "set1 = {20, 24, 26, 27}\n",
    "set2 = {26, 35, 63, 27}\n",
    "print(set1.intersection(set2))"
   ]
  },
  {
   "cell_type": "markdown",
   "metadata": {},
   "source": [
    "<p><b>Output the difference between the following sets</b></p>"
   ]
  },
  {
   "cell_type": "code",
   "execution_count": 13,
   "metadata": {},
   "outputs": [
    {
     "name": "stdout",
     "output_type": "stream",
     "text": [
      "{89, 100}\n"
     ]
    }
   ],
   "source": [
    "set3 = {100, 65, 89, 200}\n",
    "set4 = {65, 103, 54, 200}\n",
    "print(set3.difference(set4))"
   ]
  },
  {
   "cell_type": "code",
   "execution_count": null,
   "metadata": {},
   "outputs": [],
   "source": []
  }
 ],
 "metadata": {
  "kernelspec": {
   "display_name": "Python 3 (ipykernel)",
   "language": "python",
   "name": "python3"
  },
  "language_info": {
   "codemirror_mode": {
    "name": "ipython",
    "version": 3
   },
   "file_extension": ".py",
   "mimetype": "text/x-python",
   "name": "python",
   "nbconvert_exporter": "python",
   "pygments_lexer": "ipython3",
   "version": "3.12.1"
  }
 },
 "nbformat": 4,
 "nbformat_minor": 4
}
